{
 "cells": [
  {
   "cell_type": "code",
   "execution_count": 20,
   "metadata": {},
   "outputs": [
    {
     "name": "stdout",
     "output_type": "stream",
     "text": [
      "choose:1 >> counter 1 , 2 >> counter 2,3 >> counter3,4 = quit\n",
      "Customer Name: bank ryu\n",
      "waiting customer: 2\n"
     ]
    },
    {
     "ename": "NameError",
     "evalue": "name 'q' is not defined",
     "output_type": "error",
     "traceback": [
      "\u001b[1;31m---------------------------------------------------------------------------\u001b[0m",
      "\u001b[1;31mNameError\u001b[0m                                 Traceback (most recent call last)",
      "\u001b[1;32m<ipython-input-20-0b86a95f304f>\u001b[0m in \u001b[0;36m<module>\u001b[1;34m\u001b[0m\n\u001b[0;32m     34\u001b[0m     \u001b[1;32melif\u001b[0m \u001b[0mcount\u001b[0m \u001b[1;33m==\u001b[0m \u001b[1;36m2\u001b[0m \u001b[1;33m:\u001b[0m\u001b[1;33m\u001b[0m\u001b[1;33m\u001b[0m\u001b[0m\n\u001b[0;32m     35\u001b[0m         \u001b[1;32mif\u001b[0m \u001b[0mwaiting_count\u001b[0m \u001b[1;33m>\u001b[0m \u001b[1;36m0\u001b[0m \u001b[1;33m:\u001b[0m\u001b[1;33m\u001b[0m\u001b[1;33m\u001b[0m\u001b[0m\n\u001b[1;32m---> 36\u001b[1;33m             \u001b[0mwelcome\u001b[0m \u001b[1;33m=\u001b[0m \u001b[0mq\u001b[0m\u001b[1;33m.\u001b[0m\u001b[0mdequeue\u001b[0m\u001b[1;33m(\u001b[0m\u001b[1;33m)\u001b[0m\u001b[1;33m\u001b[0m\u001b[1;33m\u001b[0m\u001b[0m\n\u001b[0m\u001b[0;32m     37\u001b[0m             \u001b[0mprint\u001b[0m\u001b[1;33m(\u001b[0m\u001b[1;34m\"Customer({}) come to counter 1!?\"\u001b[0m\u001b[1;33m.\u001b[0m\u001b[0mformat\u001b[0m\u001b[1;33m(\u001b[0m\u001b[0mwelcome\u001b[0m\u001b[1;33m)\u001b[0m\u001b[1;33m)\u001b[0m\u001b[1;33m\u001b[0m\u001b[1;33m\u001b[0m\u001b[0m\n\u001b[0;32m     38\u001b[0m             \u001b[0mwaiting_count\u001b[0m \u001b[1;33m-=\u001b[0m \u001b[1;36m1\u001b[0m\u001b[1;33m\u001b[0m\u001b[1;33m\u001b[0m\u001b[0m\n",
      "\u001b[1;31mNameError\u001b[0m: name 'q' is not defined"
     ]
    }
   ],
   "source": [
    "class Queue:\n",
    "    def __init__(self):\n",
    "        self.items = []\n",
    "    def is_empty(self):\n",
    "        return self.items == []\n",
    "    def enqueue(self, item):\n",
    "        self.items.insert(0,item)\n",
    "    def dequeue(self):\n",
    "        return self.items.pop()\n",
    "    def size(self):\n",
    "        return len(self.items)\n",
    "    def show(self):\n",
    "        return self.items\n",
    "print(\"choose:1 >> counter 1 , 2 >> counter 2,3 >> counter3,4 = quit\")\n",
    "count = int\n",
    "welcome = str(input(\"Customer Name: \"))\n",
    "waiting_count = int\n",
    "while count != 4 :\n",
    "    count = int(input(\"waiting customer: \"))\n",
    "    waiting_count = (count - 1)\n",
    "    if count == 1:\n",
    "        if waiting_count > 0 :\n",
    "            welcome = q.dequeue()\n",
    "            print(\"Customer({}) come to counter 1!?\".format(welcome))\n",
    "            waiting_count -= 1\n",
    "            print(\"Number of waiting is: {}\".format(waiting_count))\n",
    "            print(\"Waiting customer>> \")\n",
    "            show_q = q.show()\n",
    "            print(show_q)\n",
    "        \n",
    "        else:\n",
    "            print(\"Number of waiting is: {}\".format(welcome))\n",
    "            print(\"No one waiting\")\n",
    "    elif count == 2 :\n",
    "        if waiting_count > 0 :\n",
    "            welcome = q.dequeue()\n",
    "            print(\"Customer({}) come to counter 1!?\".format(welcome))\n",
    "            waiting_count -= 1\n",
    "            print(\"Number of waiting is: {}\".format(waiting_count))\n",
    "            print(\"Waiting customer>> \")\n",
    "            show_q = q.show()\n",
    "            print(show_q)\n",
    "        else:\n",
    "            print(\"Number of waiting is: {}\".format(welcome))\n",
    "            print(\"No one waiting\")\n",
    "    elif count == 3 :\n",
    "        if waiting_count > 0 :\n",
    "            welcome = q.dequeue()\n",
    "            print(\"Customer({}) come to counter 1!?\".format(welcome))\n",
    "            waiting_count -= 1\n",
    "            print(\"Number of waiting is: {}\".format(waiting_count))\n",
    "            print(\"Waiting customer>> \")\n",
    "            show_q = q.show()\n",
    "            print(show_q)\n",
    "        else:\n",
    "            print(\"Number of waiting is: {}\".format(welcome))\n",
    "            print(\"No one waiting\")\n",
    "    elif count == 4 :\n",
    "        if waiting_count > 0 :\n",
    "            welcome = q.dequeue()ri\n",
    "            print(\"Customer({}) come to counter 1!?\".format(welcome))\n",
    "            waiting_count -= 1\n",
    "            print(\"Number of waiting is: {}\".format(waiting_count))\n",
    "            print(\"Waiting customer>> \")\n",
    "            show_q = q.show()\n",
    "            print(show_q)\n",
    "        else:\n",
    "            print(\"Number of waiting is: {}\".format(welcome))\n",
    "            print(\"No one waiting\")\n",
    "return count\n",
    "print(\"Thankyou\")\n",
    "        "
   ]
  }
 ],
 "metadata": {
  "kernelspec": {
   "display_name": "Python 3",
   "language": "python",
   "name": "python3"
  },
  "language_info": {
   "codemirror_mode": {
    "name": "ipython",
    "version": 3
   },
   "file_extension": ".py",
   "mimetype": "text/x-python",
   "name": "python",
   "nbconvert_exporter": "python",
   "pygments_lexer": "ipython3",
   "version": "3.7.6"
  }
 },
 "nbformat": 4,
 "nbformat_minor": 4
}
