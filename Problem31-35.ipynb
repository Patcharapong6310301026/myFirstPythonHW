{
 "cells": [
  {
   "cell_type": "markdown",
   "metadata": {},
   "source": [
    "# Python Practice book"
   ]
  },
  {
   "cell_type": "markdown",
   "metadata": {},
   "source": [
    "Patcharapong Suthiyuth 9 Oct 2020"
   ]
  },
  {
   "cell_type": "markdown",
   "metadata": {},
   "source": [
    "# Problem31"
   ]
  },
  {
   "cell_type": "code",
   "execution_count": 1,
   "metadata": {},
   "outputs": [
    {
     "data": {
      "text/plain": [
       "[[1, 2, 3], [4, 5, 6], [7, 8, 9]]"
      ]
     },
     "execution_count": 1,
     "metadata": {},
     "output_type": "execute_result"
    }
   ],
   "source": [
    "def group(inList, size):\n",
    "    res = []\n",
    "    while inList != []:\n",
    "        res += [inList[:size]]\n",
    "        inList = inList[size:]\n",
    "    return(res)\n",
    "\n",
    "group([1, 2, 3, 4, 5, 6, 7, 8, 9], 3) #[[1, 2, 3], [4, 5, 6], [7, 8, 9]]"
   ]
  },
  {
   "cell_type": "markdown",
   "metadata": {},
   "source": [
    "# Problem32"
   ]
  },
  {
   "cell_type": "code",
   "execution_count": 2,
   "metadata": {},
   "outputs": [
    {
     "data": {
      "text/plain": [
       "['c', 'java', 'perl', 'ruby', 'python', 'haskell']"
      ]
     },
     "execution_count": 2,
     "metadata": {},
     "output_type": "execute_result"
    }
   ],
   "source": [
    "def lensort(inList):\n",
    "    return [e for [i,e] in sorted([[len(e),e] for e in inList])]\n",
    "\n",
    "lensort(['python', 'perl', 'java', 'c', 'haskell', 'ruby']) "
   ]
  },
  {
   "cell_type": "markdown",
   "metadata": {},
   "source": [
    "# Problem33"
   ]
  },
  {
   "cell_type": "code",
   "execution_count": 3,
   "metadata": {},
   "outputs": [
    {
     "data": {
      "text/plain": [
       "['python', 'java']"
      ]
     },
     "execution_count": 3,
     "metadata": {},
     "output_type": "execute_result"
    }
   ],
   "source": [
    "def unique(inList, key=lambda s: s):\n",
    "    l, res = [key(e) for e in inList], []\n",
    "    while l != []:\n",
    "        res += [l.pop(0)]\n",
    "        while res[-1] in l : l.remove(res[-1])         \n",
    "    return res\n",
    "\n",
    "unique([\"python\", \"java\", \"Python\", \"Java\"], key=lambda s: s.lower())"
   ]
  },
  {
   "cell_type": "markdown",
   "metadata": {},
   "source": [
    "# Problem34"
   ]
  },
  {
   "cell_type": "code",
   "execution_count": 4,
   "metadata": {},
   "outputs": [
    {
     "data": {
      "text/plain": [
       "[1, 2, 3, 5]"
      ]
     },
     "execution_count": 4,
     "metadata": {},
     "output_type": "execute_result"
    }
   ],
   "source": [
    "def unique(inList):\n",
    "    return list(set(inList))\n",
    "\n",
    "unique([1, 2, 1, 3, 2, 5])"
   ]
  },
  {
   "cell_type": "markdown",
   "metadata": {},
   "source": [
    "# Problem35"
   ]
  },
  {
   "cell_type": "code",
   "execution_count": 5,
   "metadata": {},
   "outputs": [
    {
     "data": {
      "text/plain": [
       "['a.c', 'x.c', 'a.py', 'b.py', 'bar.txt', 'foo.txt']"
      ]
     },
     "execution_count": 5,
     "metadata": {},
     "output_type": "execute_result"
    }
   ],
   "source": [
    "def extsort(inList):\n",
    "    return ['.'.join(e) for e in sorted([e.split('.') for e in inList],key=lambda s: s[1])]\n",
    "\n",
    "extsort(['a.c', 'a.py', 'b.py', 'bar.txt', 'foo.txt', 'x.c']) "
   ]
  }
 ],
 "metadata": {
  "kernelspec": {
   "display_name": "Python 3",
   "language": "python",
   "name": "python3"
  },
  "language_info": {
   "codemirror_mode": {
    "name": "ipython",
    "version": 3
   },
   "file_extension": ".py",
   "mimetype": "text/x-python",
   "name": "python",
   "nbconvert_exporter": "python",
   "pygments_lexer": "ipython3",
   "version": "3.7.6"
  }
 },
 "nbformat": 4,
 "nbformat_minor": 4
}
