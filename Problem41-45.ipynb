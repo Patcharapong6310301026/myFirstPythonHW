{
 "cells": [
  {
   "cell_type": "markdown",
   "metadata": {},
   "source": [
    "# Python Practice Book 41-45"
   ]
  },
  {
   "cell_type": "markdown",
   "metadata": {},
   "source": [
    "Patcharapong Suthiyuth 20 Oct 2020"
   ]
  },
  {
   "cell_type": "markdown",
   "metadata": {},
   "source": [
    "# Problem 41"
   ]
  },
  {
   "cell_type": "code",
   "execution_count": 1,
   "metadata": {},
   "outputs": [
    {
     "name": "stdout",
     "output_type": "stream",
     "text": [
      "She sells seashells on the\n",
      "seashore;\n",
      "The shells that she sells\n",
      "sells are seashells I'm sure.\n",
      "sure.\n",
      "So if she sells seashells\n",
      "seashells on the seashore,\n",
      "seashore,\n",
      "I'm sure that the shells\n",
      "shells are seashore shells.\n",
      "shells.\n"
     ]
    }
   ],
   "source": [
    "import sys\n",
    "f = 'she.txt'\n",
    "c = int('30')\n",
    "\n",
    "line = open(f).readlines()\n",
    "for e in line:\n",
    "    e,a = e.split(),0\n",
    "    for i in e:\n",
    "        if a == 0 :\n",
    "            a += len(i)\n",
    "            print(i,end='')\n",
    "        elif a > 0 and a + len(i) < c:\n",
    "            a += len(i)+1\n",
    "            print(' '+i,end='')\n",
    "        if a + len(i) >= c:\n",
    "            print('\\n'+i,end='')\n",
    "            a = len(i)\n",
    "    print()"
   ]
  },
  {
   "cell_type": "markdown",
   "metadata": {},
   "source": [
    "# Problem 42"
   ]
  },
  {
   "cell_type": "code",
   "execution_count": 2,
   "metadata": {},
   "outputs": [
    {
     "name": "stdout",
     "output_type": "stream",
     "text": [
      "                       She sells seashells on the seashore;\n",
      "                The shells that she sells are seashells I'm sure.\n",
      "                    So if she sells seashells on the seashore,\n",
      "                  I'm sure that the shells are seashore shells.\n"
     ]
    }
   ],
   "source": [
    "import sys\n",
    "f = 'she.txt'\n",
    "lines = open(f).readlines()\n",
    "for e in lines:\n",
    "    print(' '*(40-len(e)//2),e,end='')"
   ]
  },
  {
   "cell_type": "markdown",
   "metadata": {},
   "source": [
    "# Problem 43"
   ]
  },
  {
   "cell_type": "code",
   "execution_count": 10,
   "metadata": {},
   "outputs": [
    {
     "name": "stdout",
     "output_type": "stream",
     "text": [
      "[(1, 'a'), (2, 'b'), (3, 'c')]\n"
     ]
    }
   ],
   "source": [
    "def zipimplement(a,b):\n",
    "    return [(a[i],b[i]) for i in range(len(a))]\n",
    "print(zipimplement([1,2,3],[\"a\",\"b\",\"c\"]))"
   ]
  },
  {
   "cell_type": "markdown",
   "metadata": {},
   "source": [
    "# Problem 44"
   ]
  },
  {
   "cell_type": "code",
   "execution_count": 11,
   "metadata": {},
   "outputs": [],
   "source": [
    "def myMap(f,l):\n",
    "    return [f(i) for i in l]\n",
    "\n",
    "def square1(x): return x * x"
   ]
  },
  {
   "cell_type": "code",
   "execution_count": 12,
   "metadata": {},
   "outputs": [
    {
     "data": {
      "text/plain": [
       "[0, 1, 4, 9, 16]"
      ]
     },
     "execution_count": 12,
     "metadata": {},
     "output_type": "execute_result"
    }
   ],
   "source": [
    "myMap(square1, range(5))"
   ]
  },
  {
   "cell_type": "markdown",
   "metadata": {},
   "source": [
    "# Problem 45"
   ]
  },
  {
   "cell_type": "code",
   "execution_count": 13,
   "metadata": {},
   "outputs": [
    {
     "data": {
      "text/plain": [
       "[0, 2, 4, 6, 8]"
      ]
     },
     "execution_count": 13,
     "metadata": {},
     "output_type": "execute_result"
    }
   ],
   "source": [
    "def filter1(f,l):\n",
    "    return [e for e in l if f(e)]\n",
    "\n",
    "def even1(x): return x %2 == 0\n",
    "filter1(even1, range(10))"
   ]
  }
 ],
 "metadata": {
  "kernelspec": {
   "display_name": "Python 3",
   "language": "python",
   "name": "python3"
  },
  "language_info": {
   "codemirror_mode": {
    "name": "ipython",
    "version": 3
   },
   "file_extension": ".py",
   "mimetype": "text/x-python",
   "name": "python",
   "nbconvert_exporter": "python",
   "pygments_lexer": "ipython3",
   "version": "3.7.6"
  }
 },
 "nbformat": 4,
 "nbformat_minor": 4
}
