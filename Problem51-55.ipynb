{
 "cells": [
  {
   "cell_type": "markdown",
   "metadata": {},
   "source": [
    "# Python Practice Book 51-55"
   ]
  },
  {
   "cell_type": "markdown",
   "metadata": {},
   "source": [
    "Patcharapong Suthiyuth 24 Oct 2020"
   ]
  },
  {
   "cell_type": "markdown",
   "metadata": {},
   "source": [
    "# Problem 51"
   ]
  },
  {
   "cell_type": "code",
   "execution_count": 2,
   "metadata": {},
   "outputs": [],
   "source": [
    "def mutate(s):\n",
    "\n",
    "    \n",
    "    az = 'abcdefghijklmnopqrstuvwxyz'\n",
    "\n",
    "    a = [ s[:pos]+e+s[pos:] for pos in range(len(s)+1) for e in az]\n",
    "\n",
    "    b = [ s[:pos] + s[(pos+1):] for pos in range(len(s)) ]\n",
    "   \n",
    "    c = [ s[:pos]+e+s[pos+1:] for pos in range(len(s)) for e in az]\n",
    "\n",
    "    d =   [ s[:x]+s[x:x+2][::-1]+s[x+2:] for x in range(0, len(s)-1) ]\n",
    "\n",
    "    return list(set(a+b+c+d))\n",
    "\n",
    "words = mutate('hello')"
   ]
  },
  {
   "cell_type": "code",
   "execution_count": 4,
   "metadata": {},
   "outputs": [
    {
     "name": "stdout",
     "output_type": "stream",
     "text": [
      "True\n"
     ]
    }
   ],
   "source": [
    "print('helo' in words)"
   ]
  },
  {
   "cell_type": "code",
   "execution_count": 5,
   "metadata": {},
   "outputs": [
    {
     "name": "stdout",
     "output_type": "stream",
     "text": [
      "True\n"
     ]
    }
   ],
   "source": [
    "print('cello' in words)"
   ]
  },
  {
   "cell_type": "code",
   "execution_count": 6,
   "metadata": {},
   "outputs": [
    {
     "name": "stdout",
     "output_type": "stream",
     "text": [
      "True\n"
     ]
    }
   ],
   "source": [
    "print('helol' in words)"
   ]
  },
  {
   "cell_type": "markdown",
   "metadata": {},
   "source": [
    "# Problem 52"
   ]
  },
  {
   "cell_type": "code",
   "execution_count": 7,
   "metadata": {},
   "outputs": [],
   "source": [
    "def nearly_equal(a,b):\n",
    "    return a in mutate(b)"
   ]
  },
  {
   "cell_type": "code",
   "execution_count": 8,
   "metadata": {},
   "outputs": [
    {
     "name": "stdout",
     "output_type": "stream",
     "text": [
      "False\n"
     ]
    }
   ],
   "source": [
    "print( nearly_equal('python', 'perl') )"
   ]
  },
  {
   "cell_type": "code",
   "execution_count": 9,
   "metadata": {},
   "outputs": [
    {
     "name": "stdout",
     "output_type": "stream",
     "text": [
      "True\n"
     ]
    }
   ],
   "source": [
    "print( nearly_equal('perl', 'pearl') )"
   ]
  },
  {
   "cell_type": "code",
   "execution_count": 10,
   "metadata": {},
   "outputs": [
    {
     "name": "stdout",
     "output_type": "stream",
     "text": [
      "True\n"
     ]
    }
   ],
   "source": [
    "print( nearly_equal('python', 'jython') )"
   ]
  },
  {
   "cell_type": "code",
   "execution_count": 11,
   "metadata": {},
   "outputs": [
    {
     "name": "stdout",
     "output_type": "stream",
     "text": [
      "False\n"
     ]
    }
   ],
   "source": [
    "print( nearly_equal('man', 'woman') )"
   ]
  },
  {
   "cell_type": "markdown",
   "metadata": {},
   "source": [
    "# Problem 53"
   ]
  },
  {
   "cell_type": "code",
   "execution_count": 12,
   "metadata": {},
   "outputs": [],
   "source": [
    "def word_frequency(words):\n",
    "    frequency = {}\n",
    "    for w in words:\n",
    "        frequency[w] = frequency.get(w, 0) + 1\n",
    "    return frequency\n",
    "\n",
    "def read_words(filename):\n",
    "    return open(filename).read().split()\n",
    "\n",
    "def main(filename):\n",
    "    frequency = word_frequency(read_words(filename))\n",
    "    frequency = {k: v for k, v in sorted(frequency.items(), key=lambda item: item[1], reverse=True)}\n",
    "    for word, count in frequency.items():\n",
    "        print(word, count)"
   ]
  },
  {
   "cell_type": "code",
   "execution_count": 13,
   "metadata": {},
   "outputs": [
    {
     "name": "stdout",
     "output_type": "stream",
     "text": [
      "sells 3\n",
      "seashells 3\n",
      "the 3\n",
      "on 2\n",
      "shells 2\n",
      "that 2\n",
      "she 2\n",
      "are 2\n",
      "I'm 2\n",
      "She 1\n",
      "seashore; 1\n",
      "The 1\n",
      "sure. 1\n",
      "So 1\n",
      "if 1\n",
      "seashore, 1\n",
      "sure 1\n",
      "seashore 1\n",
      "shells. 1\n"
     ]
    }
   ],
   "source": [
    "main('she.txt')"
   ]
  },
  {
   "cell_type": "markdown",
   "metadata": {},
   "source": [
    "# Problem 54"
   ]
  },
  {
   "cell_type": "code",
   "execution_count": 14,
   "metadata": {},
   "outputs": [
    {
     "name": "stdout",
     "output_type": "stream",
     "text": [
      "sells 3\n",
      "seashells 3\n",
      "the 3\n",
      "on 2\n",
      "shells 2\n",
      "that 2\n",
      "she 2\n",
      "are 2\n",
      "I'm 2\n",
      "She 1\n",
      "seashore; 1\n",
      "The 1\n",
      "sure. 1\n",
      "So 1\n",
      "if 1\n",
      "seashore, 1\n",
      "sure 1\n",
      "seashore 1\n",
      "shells. 1\n"
     ]
    }
   ],
   "source": [
    "def word_frequency(words):\n",
    "    frequency = {}\n",
    "    for w in words:\n",
    "        frequency[w] = frequency.get(w, 0) + 1\n",
    "    return frequency\n",
    "\n",
    "def read_words(filename):\n",
    "    return open(filename).read().split()\n",
    "\n",
    "def main(filename):\n",
    "    frequency = word_frequency(read_words(filename))\n",
    "    list1 = sorted(frequency.items(), key=lambda item: item[1], reverse=True)\n",
    "    for word, count in list1:\n",
    "        print(word, count)\n",
    "\n",
    "main('she.txt')"
   ]
  },
  {
   "cell_type": "markdown",
   "metadata": {},
   "source": [
    "# Problem 55"
   ]
  },
  {
   "cell_type": "code",
   "execution_count": 15,
   "metadata": {},
   "outputs": [
    {
     "data": {
      "text/plain": [
       "[['eat', 'ate', 'tea'], ['done', 'node'], ['soup']]"
      ]
     },
     "execution_count": 15,
     "metadata": {},
     "output_type": "execute_result"
    }
   ],
   "source": [
    "def anagrams(inList):\n",
    "    res = dict()\n",
    "    for e in inList:\n",
    "        for k,v in res.items():\n",
    "            if {i for i in e} == {i for i in k} :\n",
    "                res[k] += [e]\n",
    "                break\n",
    "        else : \n",
    "            res[e] = [e]\n",
    "    return [v for k,v in res.items()]\n",
    "\n",
    "anagrams(['eat', 'ate', 'done', 'tea', 'soup', 'node'])"
   ]
  }
 ],
 "metadata": {
  "kernelspec": {
   "display_name": "Python 3",
   "language": "python",
   "name": "python3"
  },
  "language_info": {
   "codemirror_mode": {
    "name": "ipython",
    "version": 3
   },
   "file_extension": ".py",
   "mimetype": "text/x-python",
   "name": "python",
   "nbconvert_exporter": "python",
   "pygments_lexer": "ipython3",
   "version": "3.7.6"
  }
 },
 "nbformat": 4,
 "nbformat_minor": 4
}
