{
 "cells": [
  {
   "cell_type": "markdown",
   "metadata": {},
   "source": [
    "# Python Practice Book 56-60"
   ]
  },
  {
   "cell_type": "markdown",
   "metadata": {},
   "source": [
    "Patcharapong Suthiyuth 28 Oct 2020"
   ]
  },
  {
   "cell_type": "markdown",
   "metadata": {},
   "source": [
    "# Problem56"
   ]
  },
  {
   "cell_type": "code",
   "execution_count": 1,
   "metadata": {},
   "outputs": [
    {
     "data": {
      "text/plain": [
       "[3, 1, 2]"
      ]
     },
     "execution_count": 1,
     "metadata": {},
     "output_type": "execute_result"
    }
   ],
   "source": [
    "def valuesort(d):\n",
    "    return([i for e,i in list(sorted(d.items()))])\n",
    "\n",
    "valuesort({'x': 1, 'y': 2, 'a': 3})"
   ]
  },
  {
   "cell_type": "markdown",
   "metadata": {},
   "source": [
    "# Problem57"
   ]
  },
  {
   "cell_type": "code",
   "execution_count": 7,
   "metadata": {},
   "outputs": [
    {
     "data": {
      "text/plain": [
       "{1: 'x', 2: 'y', 3: 'z'}"
      ]
     },
     "execution_count": 7,
     "metadata": {},
     "output_type": "execute_result"
    }
   ],
   "source": [
    "def invertdict(d):\n",
    "    return {v: k for k, v in d.items()}\n",
    "\n",
    "invertdict({'x': 1, 'y': 2, 'z': 3})"
   ]
  },
  {
   "cell_type": "markdown",
   "metadata": {},
   "source": [
    "# Problem58"
   ]
  },
  {
   "cell_type": "code",
   "execution_count": 9,
   "metadata": {},
   "outputs": [
    {
     "name": "stdout",
     "output_type": "stream",
     "text": [
      ".conda\n",
      ".condarc\n",
      ".ipynb_checkpoints\n",
      ".ipython\n",
      ".jupyter\n",
      ".LINE\n",
      ".QtWebEngineProcess\n",
      "112.txt\n",
      "2.txt\n",
      "21-30.ipynb\n",
      "31-42.ipynb\n",
      "3D Objects\n",
      "40.txt\n",
      "410.txt\n",
      "43-55.ipynb\n",
      "56-70.ipynb\n",
      "a.csv\n",
      "a.txt\n",
      "anaconda3\n",
      "AppData\n",
      "Application Data\n",
      "Charts_in_Colaboratory.ipynb\n",
      "code.txt\n",
      "coffeeshop.py\n",
      "Contacts\n",
      "Cookies\n",
      "Creative Cloud Files\n",
      "desktop.ipynb\n",
      "Documents\n",
      "Downloads\n",
      "drive-download-20200723T063220Z-001.zip\n",
      "Dropbox\n",
      "Epic Games Launcher.lnk\n",
      "Favorites\n",
      "IntelGraphicsProfiles\n",
      "lesson3.ipynb\n",
      "Links\n",
      "Local Settings\n",
      "MicrosoftEdgeBackups\n",
      "Music\n",
      "My Documents\n",
      "NetHood\n",
      "NTUSER.DAT\n",
      "ntuser.dat.LOG1\n",
      "ntuser.dat.LOG2\n",
      "NTUSER.DAT{29829b51-0751-11eb-a0ff-a7ba5aa035df}.TM.blf\n",
      "NTUSER.DAT{29829b51-0751-11eb-a0ff-a7ba5aa035df}.TMContainer00000000000000000001.regtrans-ms\n",
      "NTUSER.DAT{29829b51-0751-11eb-a0ff-a7ba5aa035df}.TMContainer00000000000000000002.regtrans-ms\n",
      "ntuser.ini\n",
      "oilpricecalculation.py\n",
      "OneDrive\n",
      "Pictures\n",
      "PrintHood\n",
      "Problem21-30.ipynb\n",
      "Problem31-35.ipynb\n",
      "Problem36-40(re-upload).ipynb\n",
      "Problem41-45.ipynb\n",
      "Problem46-50.ipynb\n",
      "Problem51-55.ipynb\n",
      "problem71-81.ipynb\n",
      "problem83-95.ipynb\n",
      "Python_Introduction_1.ipynb\n",
      "Python_Introduction_3.ipynb\n",
      "Recent\n",
      "Saved Games\n",
      "Searches\n",
      "SendTo\n",
      "she.txt\n",
      "Start Menu\n",
      "Templates\n",
      "untitled\n",
      "Untitled Folder\n",
      "Untitled.ipynb\n",
      "Untitled1.ipynb\n",
      "Untitled2.ipynb\n",
      "Untitled3.ipynb\n",
      "Untitled4.ipynb\n",
      "Untitled5.ipynb\n",
      "Videos\n"
     ]
    }
   ],
   "source": [
    "import os\n",
    "[print(item) for item in os.listdir()];"
   ]
  },
  {
   "cell_type": "markdown",
   "metadata": {},
   "source": [
    "# Problem59"
   ]
  },
  {
   "cell_type": "code",
   "execution_count": 3,
   "metadata": {},
   "outputs": [
    {
     "name": "stdout",
     "output_type": "stream",
     "text": [
      "23 ipynb\n",
      "7 txt\n",
      "2 py\n",
      "2 regtrans-ms\n",
      "1 conda\n",
      "1 condarc\n",
      "1 ipynb_checkpoints\n",
      "1 ipython\n",
      "1 jupyter\n",
      "1 LINE\n",
      "1 QtWebEngineProcess\n",
      "1 3D Objects\n",
      "1 csv\n",
      "1 anaconda3\n",
      "1 AppData\n",
      "1 Application Data\n",
      "1 Contacts\n",
      "1 Cookies\n",
      "1 Creative Cloud Files\n",
      "1 Documents\n",
      "1 Downloads\n",
      "1 zip\n",
      "1 Dropbox\n",
      "1 lnk\n",
      "1 Favorites\n",
      "1 IntelGraphicsProfiles\n",
      "1 Links\n",
      "1 Local Settings\n",
      "1 MicrosoftEdgeBackups\n",
      "1 Music\n",
      "1 My Documents\n",
      "1 NetHood\n",
      "1 DAT\n",
      "1 LOG1\n",
      "1 LOG2\n",
      "1 blf\n",
      "1 ini\n",
      "1 OneDrive\n",
      "1 Pictures\n",
      "1 PrintHood\n",
      "1 Recent\n",
      "1 Saved Games\n",
      "1 Searches\n",
      "1 SendTo\n",
      "1 Start Menu\n",
      "1 Templates\n",
      "1 untitled\n",
      "1 Untitled Folder\n",
      "1 Videos\n"
     ]
    }
   ],
   "source": [
    "import sys\n",
    "import os\n",
    "path = '.'\n",
    "files = []\n",
    "for f in os.listdir(path):\n",
    "    files.append(f)\n",
    "ext = [e.split('.')[-1] for e in files]\n",
    "frequency = {}\n",
    "for w in ext:\n",
    "    frequency[w] = frequency.get(w, 0) + 1\n",
    "\n",
    "extcount = {k: v for k, v in sorted(frequency.items(), key=lambda item: item[1], reverse=True)}\n",
    "extcount = [print(v,k) for k, v in extcount.items()]"
   ]
  },
  {
   "cell_type": "markdown",
   "metadata": {},
   "source": [
    " # Problem60"
   ]
  },
  {
   "cell_type": "code",
   "execution_count": 4,
   "metadata": {},
   "outputs": [
    {
     "name": "stdout",
     "output_type": "stream",
     "text": [
      "0\t2020-10-29 14:27:14.232786\t.conda\n",
      "43\t2020-09-12 16:22:59.612661\t.condarc\n",
      "0\t2020-10-29 14:43:42.517660\t.ipynb_checkpoints\n",
      "0\t2020-10-29 14:27:14.240229\t.ipython\n",
      "0\t2020-10-29 14:27:14.250772\t.jupyter\n",
      "0\t2020-10-29 14:27:14.253226\t.LINE\n",
      "0\t2020-10-29 14:27:14.253726\t.QtWebEngineProcess\n",
      "5\t2020-10-06 11:22:09.483428\t112.txt\n",
      "1\t2020-10-06 11:22:09.473219\t2.txt\n",
      "12411\t2020-10-28 16:00:19.429834\t21-30.ipynb\n",
      "9698\t2020-10-28 16:06:12.944871\t31-42.ipynb\n",
      "0\t2020-10-29 14:27:14.254260\t3D Objects\n",
      "214\t2020-10-29 12:53:44.442815\t40.txt\n",
      "4\t2020-10-06 11:22:09.463443\t410.txt\n",
      "1103\t2020-10-28 16:07:57.938510\t43-55.ipynb\n",
      "1894\t2020-10-28 16:08:22.931759\t56-70.ipynb\n",
      "31\t2020-10-29 13:16:16.751718\ta.csv\n",
      "28\t2020-10-28 17:42:14.064381\ta.txt\n",
      "0\t2020-10-29 14:26:20.782247\tanaconda3\n",
      "0\t2020-10-29 14:38:41.760390\tAppData\n",
      "0\t2020-10-06 04:25:31.669889\tApplication Data\n",
      "7654021\t2020-08-09 16:38:36.695528\tCharts_in_Colaboratory.ipynb\n",
      "1915\t2020-10-06 11:22:09.452020\tcode.txt\n",
      "1631\t2020-09-12 16:21:36.067654\tcoffeeshop.py\n",
      "0\t2020-10-29 14:27:35.135571\tContacts\n",
      "0\t2020-10-06 04:25:31.669889\tCookies\n",
      "0\t2020-10-29 14:27:35.136117\tCreative Cloud Files\n",
      "7731\t2020-08-24 08:53:15.336850\tdesktop.ipynb\n",
      "0\t2020-10-29 14:27:35.136769\tDocuments\n",
      "0\t2020-10-29 14:27:35.138391\tDownloads\n",
      "7396376\t2020-10-29 13:38:58.675366\tdrive-download-20200723T063220Z-001.zip\n",
      "0\t2020-10-29 13:38:41.007196\tDropbox\n",
      "1246\t2020-10-29 13:38:58.677265\tEpic Games Launcher.lnk\n",
      "0\t2020-10-29 13:38:30.593518\tFavorites\n",
      "0\t2020-10-29 14:27:35.539187\tIntelGraphicsProfiles\n",
      "3156\t2020-08-09 16:37:01.057644\tlesson3.ipynb\n",
      "0\t2020-10-29 14:27:35.539683\tLinks\n",
      "0\t2020-10-06 04:25:31.669889\tLocal Settings\n",
      "0\t2020-10-29 14:27:35.541174\tMicrosoftEdgeBackups\n",
      "0\t2020-10-29 14:27:35.547133\tMusic\n",
      "0\t2020-10-06 04:25:31.669889\tMy Documents\n",
      "0\t2020-10-06 04:25:31.669889\tNetHood\n",
      "6291456\t2020-10-28 18:27:46.540149\tNTUSER.DAT\n",
      "917504\t2020-10-06 04:25:31.685515\tntuser.dat.LOG1\n",
      "1048576\t2020-10-06 04:25:31.685515\tntuser.dat.LOG2\n",
      "65536\t2020-10-06 11:42:11.886943\tNTUSER.DAT{29829b51-0751-11eb-a0ff-a7ba5aa035df}.TM.blf\n",
      "524288\t2020-10-29 12:53:35.053562\tNTUSER.DAT{29829b51-0751-11eb-a0ff-a7ba5aa035df}.TMContainer00000000000000000001.regtrans-ms\n",
      "524288\t2020-10-06 04:25:31.685515\tNTUSER.DAT{29829b51-0751-11eb-a0ff-a7ba5aa035df}.TMContainer00000000000000000002.regtrans-ms\n",
      "20\t2020-10-29 13:38:58.687482\tntuser.ini\n",
      "7441\t2020-09-23 22:35:39.353633\toilpricecalculation.py\n",
      "0\t2020-10-29 14:27:35.548693\tOneDrive\n",
      "0\t2020-10-29 13:38:40.995999\tPictures\n",
      "0\t2020-10-06 04:25:31.669889\tPrintHood\n",
      "9899\t2020-10-28 16:38:19.031615\tProblem21-30.ipynb\n",
      "3819\t2020-10-29 13:03:51.262226\tProblem31-35.ipynb\n",
      "5281\t2020-10-29 13:01:14.283665\tProblem36-40(re-upload).ipynb\n",
      "4282\t2020-10-29 13:26:11.854075\tProblem41-45.ipynb\n",
      "3933\t2020-10-29 14:08:40.226196\tProblem46-50.ipynb\n",
      "6957\t2020-10-29 13:59:54.363387\tProblem51-55.ipynb\n",
      "4968\t2020-10-29 14:43:32.713572\tProblem55-60.ipynb\n",
      "20638\t2020-10-28 16:21:22.932986\tproblem71-81.ipynb\n",
      "14076\t2020-10-28 15:27:26.563518\tproblem83-95.ipynb\n",
      "132636\t2020-08-09 16:39:11.146486\tPython_Introduction_1.ipynb\n",
      "675068\t2020-08-09 16:40:02.743590\tPython_Introduction_3.ipynb\n",
      "0\t2020-10-06 04:25:31.669889\tRecent\n",
      "0\t2020-10-29 14:27:35.559538\tSaved Games\n",
      "0\t2020-10-29 14:27:35.559928\tSearches\n",
      "0\t2020-10-06 04:25:31.669889\tSendTo\n",
      "180\t2020-10-29 13:00:08.111346\tshe.txt\n",
      "0\t2020-10-06 04:25:31.669889\tStart Menu\n",
      "0\t2020-10-06 04:25:31.669889\tTemplates\n",
      "3954\t2020-09-23 23:10:17.194807\tuntitled\n",
      "0\t2020-10-29 14:27:35.560495\tUntitled Folder\n",
      "15226\t2020-09-12 16:37:26.668542\tUntitled.ipynb\n",
      "6654\t2020-08-31 10:22:18.984270\tUntitled1.ipynb\n",
      "2730\t2020-09-03 11:02:55.607709\tUntitled2.ipynb\n",
      "2929\t2020-10-16 07:50:47.527833\tUntitled3.ipynb\n",
      "72\t2020-10-16 07:50:42.416693\tUntitled4.ipynb\n",
      "0\t2020-10-29 14:27:35.560495\tVideos\n"
     ]
    }
   ],
   "source": [
    "import datetime\n",
    "import os\n",
    "\n",
    "my_path='.'\n",
    "\n",
    "for item in os.scandir(my_path):\n",
    "     print('\\t'.join(str(e) for e in [item.stat().st_size, datetime.datetime.fromtimestamp(item.stat().st_atime),item.name]))"
   ]
  }
 ],
 "metadata": {
  "kernelspec": {
   "display_name": "Python 3",
   "language": "python",
   "name": "python3"
  },
  "language_info": {
   "codemirror_mode": {
    "name": "ipython",
    "version": 3
   },
   "file_extension": ".py",
   "mimetype": "text/x-python",
   "name": "python",
   "nbconvert_exporter": "python",
   "pygments_lexer": "ipython3",
   "version": "3.7.6"
  }
 },
 "nbformat": 4,
 "nbformat_minor": 4
}
