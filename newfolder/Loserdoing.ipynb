{
 "cells": [
  {
   "cell_type": "code",
   "execution_count": null,
   "metadata": {},
   "outputs": [],
   "source": [
    "n = int(input(\"Enter a number: \"))\n",
    "for i in range(n):\n",
    "    print(\" \"*(n-i-1),end=\"\")\n",
    "    for j in range(i+1):\n",
    "        print(\"* \",end=\"\")\n",
    "    print()\n",
    "for i in range(n-1):\n",
    "    print(\" \"*(i+1),end=\"\")\n",
    "    for j in range(n-i-1):\n",
    "        print(\"* \",end=\"\")\n",
    "    print()"
   ]
  },
  {
   "cell_type": "code",
   "execution_count": null,
   "metadata": {},
   "outputs": [],
   "source": [
    "n = int(input(\"Enter a number : \"))\n",
    "for i in range(n):\n",
    "    print(\"* \",end=\"\")\n",
    "    if i>=1:\n",
    "        print(\" \"*(2*i-1)+\"* \",end=\"\")\n",
    "    print()"
   ]
  },
  {
   "cell_type": "code",
   "execution_count": null,
   "metadata": {},
   "outputs": [],
   "source": [
    "text = input(\"Enter your text: \")\n",
    "cu = 0\n",
    "uc = 0\n",
    "for i in text:\n",
    "    if i.isupper() == True:\n",
    "        cu=cu+1\n",
    "    if i.islower() == True:\n",
    "        uc=uc+1\n",
    "print(\"Uppercase character number is {}\".format(cu))\n",
    "print(\"Lowercase character number is {}\".format(uc))\n",
    "print(\"Special character number is{}\".format(len(text)-cu-uc))"
   ]
  }
 ],
 "metadata": {
  "kernelspec": {
   "display_name": "Python 3",
   "language": "python",
   "name": "python3"
  },
  "language_info": {
   "codemirror_mode": {
    "name": "ipython",
    "version": 3
   },
   "file_extension": ".py",
   "mimetype": "text/x-python",
   "name": "python",
   "nbconvert_exporter": "python",
   "pygments_lexer": "ipython3",
   "version": "3.7.6"
  }
 },
 "nbformat": 4,
 "nbformat_minor": 4
}
