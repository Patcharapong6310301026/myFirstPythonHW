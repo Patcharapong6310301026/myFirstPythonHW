{
 "cells": [
  {
   "cell_type": "code",
   "execution_count": 3,
   "metadata": {},
   "outputs": [
    {
     "name": "stdout",
     "output_type": "stream",
     "text": [
      "Enter number: 9\n",
      "9 is not divisible\n"
     ]
    }
   ],
   "source": [
    "#1\n",
    "d = int(input(\"Enter number: \"))\n",
    "if d % 5 == 0:\n",
    "   print('{} is divisible'.format(d))\n",
    "else:\n",
    "     print('{} is not divisible'.format(d))"
   ]
  },
  {
   "cell_type": "code",
   "execution_count": null,
   "metadata": {},
   "outputs": [],
   "source": [
    "#2\n",
    "s = int(input(\"Enter score: \"))\n",
    "if s>= 81:\n",
    "    print(\"Your is out of range!!!\")\n",
    "elif s>=51:\n",
    "    print(\"your are good\")\n",
    "else:\n",
    "    print(\"Your are Fail\")"
   ]
  },
  {
   "cell_type": "code",
   "execution_count": null,
   "metadata": {},
   "outputs": [],
   "source": [
    "#3\n",
    "m = int(input(\"ค่าmidterm: \"))\n",
    "f = int(input(\"ค่าfinal score: \"))\n",
    "h = int(input(\"ค่าhomework: \"))\n",
    "s =(m*40/100)+(f*50/100)+(h*10/100)\n",
    "print(\"เกรดเฉลี่ย:{}\".format(s))\n",
    "if s<=100 and s>=90 :\n",
    "    print (\"You Get grade A\")\n",
    "elif s<90 and s>=85 :\n",
    "    print (\"You Get grade B+\")\n",
    "elif s<85 and s>=80 :\n",
    "    print (\"You Get grade B\")\n",
    "elif s<80 and s>=70 :\n",
    "    print (\"You Get grade C+\")\n",
    "elif s<70 and s>=60 :\n",
    "    print (\"You Get grade C\")\n",
    "elif s<60 and s>=55 :\n",
    "    print (\"You Get grade D+\")\n",
    "elif s<55 and s>=50 :\n",
    "    print (\"You Get grade D\")\n",
    "elif s<50 :\n",
    "    print (\"You Get grade F\")\n",
    "else:\n",
    "    print(\"ERROR\")"
   ]
  },
  {
   "cell_type": "code",
   "execution_count": null,
   "metadata": {},
   "outputs": [],
   "source": [
    "#4\n",
    "f = int(input(\"Enter the first number: \"))\n",
    "s = int(input(\"Enter the second number: \"))\n",
    "if f>s :\n",
    "    print(\"{} is greater than {}\".format(f,s))\n",
    "elif f<s:\n",
    "    print(\"{} is less than {}\".format(f,s))\n",
    "elif f==s:\n",
    "    print(\"{} is equal to {}\".format(f,s))"
   ]
  },
  {
   "cell_type": "code",
   "execution_count": null,
   "metadata": {},
   "outputs": [],
   "source": [
    "#5\n",
    "a = int(input(\"Enter your age: \"))\n",
    "if a>0 and a<=10:\n",
    "    print(\"กลุ่มเด็ก\")\n",
    "elif a>=11 and a<=20:\n",
    "    print(\"กลุ่มวัยรุ่น\")\n",
    "elif a>=21 and a<=35:\n",
    "    print(\"กลุ่มวัยทำงาน\")\n",
    "elif a>=36 and a<=55:\n",
    "    print(\"กลุ่มวัยกลางคน\")\n",
    "elif  a>=56:\n",
    "    print(\"กลุ่มวัยสูงอายุ\")\n",
    "else:\n",
    "    print(\"Error\")"
   ]
  },
  {
   "cell_type": "code",
   "execution_count": null,
   "metadata": {},
   "outputs": [],
   "source": [
    "#6\n",
    "s = int(input(\"Select 1 (Rectangular),2 (triangle): \"))\n",
    "if s==1:\n",
    "    w = int(input(\"Enter width : \"))\n",
    "    h = int(input(\"Enter height: \"))\n",
    "    print(\"Area of Rectangular:{}\".format(w*h))\n",
    "elif s==2:\n",
    "    h = int(input(\"Enter height: \"))\n",
    "    b =int(input(\"Enter base: \"))\n",
    "    print(\"Area of triangle:{}\".format(1/2*b*h))\n",
    "else:\n",
    "    print(\"Error\")"
   ]
  },
  {
   "cell_type": "code",
   "execution_count": 4,
   "metadata": {},
   "outputs": [
    {
     "name": "stdout",
     "output_type": "stream",
     "text": [
      "Enter number of month: 13\n",
      "Error\n"
     ]
    }
   ],
   "source": [
    "#7\n",
    "month = int(input(\"Enter number of month: \"))\n",
    "if month == 1:\n",
    "    print(\"{} is January\".format(month))\n",
    "elif month == 2:\n",
    "    print(\"{} is February\".format(month))\n",
    "elif month == 3:\n",
    "    print(\"{} is March\".format(month))\n",
    "elif month == 4:\n",
    "    print(\"{} is April\".format(month))\n",
    "elif month == 5:\n",
    "    print(\"{} is May\".format(month))\n",
    "elif month == 6:\n",
    "    print(\"{} is June\".format(month))\n",
    "elif month == 7:\n",
    "    print(\"{} is July\".format(month))\n",
    "elif month == 8:\n",
    "    print(\"{} is August\".format(month))\n",
    "elif month == 9:\n",
    "    print(\"{} is September\".format(month))\n",
    "elif month == 10:\n",
    "    print(\"{} is October\".format(month))\n",
    "elif month == 11:\n",
    "    print(\"{} is November\".format(month))\n",
    "elif month == 12:\n",
    "    print(\"{} is December\".format(month))\n",
    "else:\n",
    "    print(\"Error\")"
   ]
  },
  {
   "cell_type": "code",
   "execution_count": 5,
   "metadata": {},
   "outputs": [
    {
     "name": "stdout",
     "output_type": "stream",
     "text": [
      "Enter of number(0-9): 10\n",
      "Error\n"
     ]
    }
   ],
   "source": [
    "#8\n",
    "number = int(input(\"Enter of number(0-9): \"))\n",
    "if number == 0:\n",
    "    print(\"zero\")\n",
    "elif number == 1:\n",
    "    print(\"one\")\n",
    "elif number == 2:\n",
    "    print(\"two\")\n",
    "elif number == 3:\n",
    "    print(\"three\")\n",
    "elif number == 4:\n",
    "    print(\"four\")\n",
    "elif number == 5:\n",
    "    print(\"five\")\n",
    "elif number == 6:\n",
    "    print(\"six\")\n",
    "elif number == 7:\n",
    "    print(\"seven\")\n",
    "elif number == 8:\n",
    "    print(\"eight\")\n",
    "elif number == 9:\n",
    "    print(\"nine\")\n",
    "else:\n",
    "    print(\"Error\")"
   ]
  },
  {
   "cell_type": "code",
   "execution_count": null,
   "metadata": {},
   "outputs": [],
   "source": [
    "#9 Expert\n",
    "number = int(input(\"Enter of number: \"))\n",
    "if "
   ]
  },
  {
   "cell_type": "code",
   "execution_count": null,
   "metadata": {},
   "outputs": [],
   "source": [
    "#homework use(print,input,if,else)get app\n",
    "number = int(input(\"Welcome to Icecreamstore Are you want to\"))"
   ]
  }
 ],
 "metadata": {
  "kernelspec": {
   "display_name": "Python 3",
   "language": "python",
   "name": "python3"
  },
  "language_info": {
   "codemirror_mode": {
    "name": "ipython",
    "version": 3
   },
   "file_extension": ".py",
   "mimetype": "text/x-python",
   "name": "python",
   "nbconvert_exporter": "python",
   "pygments_lexer": "ipython3",
   "version": "3.7.6"
  }
 },
 "nbformat": 4,
 "nbformat_minor": 4
}
