{
 "cells": [
  {
   "cell_type": "code",
   "execution_count": 3,
   "metadata": {},
   "outputs": [
    {
     "name": "stdout",
     "output_type": "stream",
     "text": [
      "Enter number: 5\n",
      "1\n",
      "2\n",
      "3\n",
      "4\n",
      "5\n"
     ]
    }
   ],
   "source": [
    "#1\n",
    "e = int(input(\"Enter number: \"))\n",
    "for i in range(1, e + 1):\n",
    "    print(i)"
   ]
  },
  {
   "cell_type": "code",
   "execution_count": 14,
   "metadata": {},
   "outputs": [
    {
     "name": "stdout",
     "output_type": "stream",
     "text": [
      "Enter number: 9\n",
      "123456789"
     ]
    }
   ],
   "source": [
    "#2\n",
    "r = int(input(\"Enter number: \"))\n",
    "for i in range(1, r+1):\n",
    "    print(i, end=\"\")"
   ]
  },
  {
   "cell_type": "code",
   "execution_count": 12,
   "metadata": {
    "scrolled": true
   },
   "outputs": [
    {
     "name": "stdout",
     "output_type": "stream",
     "text": [
      "ต้องการสูตรคูณแม่ไหน? :12\n",
      "12 x 1 = 12\n",
      "12 x 2 = 24\n",
      "12 x 3 = 36\n",
      "12 x 4 = 48\n",
      "12 x 5 = 60\n",
      "12 x 6 = 72\n",
      "12 x 7 = 84\n",
      "12 x 8 = 96\n",
      "12 x 9 = 108\n",
      "12 x 10 = 120\n",
      "12 x 11 = 132\n",
      "12 x 12 = 144\n"
     ]
    }
   ],
   "source": [
    "#3\n",
    "number = int(input(\"ต้องการสูตรคูณแม่ไหน?: \"))\n",
    "for i in range(1,13):\n",
    "    result = number*i\n",
    "    # print(\"%d x %d = %d\"%(number,i,result))\n",
    "    print(number,\"x\",i,\"=\",result)"
   ]
  },
  {
   "cell_type": "code",
   "execution_count": 3,
   "metadata": {},
   "outputs": [
    {
     "name": "stdout",
     "output_type": "stream",
     "text": [
      "Enter number: 6\n",
      "123456"
     ]
    }
   ],
   "source": [
    "#4\n",
    "e = int(input(\"Enter number: \"))\n",
    "n = 0\n",
    "while n <= e - 1:\n",
    "    n += 1\n",
    "    print(n, end=\"\")"
   ]
  },
  {
   "cell_type": "code",
   "execution_count": 1,
   "metadata": {},
   "outputs": [
    {
     "name": "stdout",
     "output_type": "stream",
     "text": [
      "ต้องการสูตรคูณแม่ไหน?: 5\n",
      "5 * 1 = 5\n",
      "5 * 2 = 10\n",
      "5 * 3 = 15\n",
      "5 * 4 = 20\n",
      "5 * 5 = 25\n",
      "5 * 6 = 30\n",
      "5 * 7 = 35\n",
      "5 * 8 = 40\n",
      "5 * 9 = 45\n",
      "5 * 10 = 50\n",
      "5 * 11 = 55\n",
      "5 * 12 = 60\n"
     ]
    }
   ],
   "source": [
    "#5\n",
    "number = int(input(\"ต้องการสูตรคูณแม่ไหน?: \"))\n",
    "max = 12\n",
    "min = 1\n",
    "while min <= max:\n",
    "    print(\"%d * %d = %d\" %(number,min,number*min))\n",
    "    min += 1"
   ]
  },
  {
   "cell_type": "code",
   "execution_count": 22,
   "metadata": {},
   "outputs": [
    {
     "name": "stdout",
     "output_type": "stream",
     "text": [
      "Enter number: 5\n",
      "5 10 15 20 25 30 35 40 45 50 "
     ]
    }
   ],
   "source": [
    "#6\n",
    "r = int(input(\"Enter number: \"))\n",
    "for i in range(1, 50+1):\n",
    "   if i % r == 0:\n",
    "    print(i,\"\",end=\"\")"
   ]
  },
  {
   "cell_type": "code",
   "execution_count": 25,
   "metadata": {},
   "outputs": [
    {
     "name": "stdout",
     "output_type": "stream",
     "text": [
      "Enter number: 5\n",
      "*\n",
      "**\n",
      "***\n",
      "****\n",
      "*****\n"
     ]
    }
   ],
   "source": [
    "#7\n",
    "number = int(input(\"Enter number: \"))\n",
    "ch = (\"*\")\n",
    "for i in range(1,number + 1):\n",
    "    for j in range(1, i+1):\n",
    "        print('%c'%ch, end='')\n",
    "    print()"
   ]
  },
  {
   "cell_type": "code",
   "execution_count": 1,
   "metadata": {},
   "outputs": [
    {
     "name": "stdout",
     "output_type": "stream",
     "text": [
      "Enter number: 5\n",
      "*****\n",
      "****\n",
      "***\n",
      "**\n",
      "*\n"
     ]
    }
   ],
   "source": [
    "#8\n",
    "number = int(input(\"Enter number: \"))\n",
    "ch = (\"*\")\n",
    "i = number\n",
    "while(i > 0):\n",
    "    j = i\n",
    "    while(j > 0):\n",
    "        print('%c'%ch, end='')\n",
    "        j = j-1\n",
    "    i = i -1\n",
    "    print()"
   ]
  },
  {
   "cell_type": "code",
   "execution_count": 15,
   "metadata": {},
   "outputs": [
    {
     "name": "stdout",
     "output_type": "stream",
     "text": [
      "Enter a number: 5\n",
      "    * \n",
      "   * * \n",
      "  * * * \n",
      " * * * * \n",
      "* * * * * \n"
     ]
    }
   ],
   "source": [
    "#9\n",
    "n = int(input(\"Enter a number: \"))\n",
    "for i in range(n):\n",
    "    print(\" \"*(n-i-1),end=\"\")\n",
    "    for j in range(i+1):\n",
    "        print('*',\"\",end=\"\")\n",
    "    print()"
   ]
  },
  {
   "cell_type": "code",
   "execution_count": 10,
   "metadata": {},
   "outputs": [
    {
     "name": "stdout",
     "output_type": "stream",
     "text": [
      "Enter a number: 5\n",
      "    * \n",
      "   * * \n",
      "  * * * \n",
      " * * * * \n",
      "* * * * * \n",
      " * * * * \n",
      "  * * * \n",
      "   * * \n",
      "    * \n"
     ]
    }
   ],
   "source": [
    "#10\n",
    "n = int(input(\"Enter a number: \"))\n",
    "for i in range(n):\n",
    "    print(\" \"*(n-i-1),end=\"\")\n",
    "    for j in range(i+1):\n",
    "        print(\"* \",end=\"\")\n",
    "    print()\n",
    "for i in range(n-1):\n",
    "    print(\" \"*(i+1),end=\"\")\n",
    "    for j in range(n-i-1):\n",
    "        print(\"* \",end=\"\")\n",
    "    print()"
   ]
  },
  {
   "cell_type": "code",
   "execution_count": 3,
   "metadata": {},
   "outputs": [
    {
     "name": "stdout",
     "output_type": "stream",
     "text": [
      "Enter a number : 5\n",
      "* \n",
      "*  * \n",
      "*    * \n",
      "*      * \n",
      "*        * \n"
     ]
    }
   ],
   "source": [
    "#11\n",
    "n = int(input(\"Enter a number : \"))\n",
    "for i in range(n):\n",
    "    print(\"* \",end=\"\")\n",
    "    if i>=1:\n",
    "        print(\" \"*(2*i-1)+\"* \",end=\"\")\n",
    "    print()"
   ]
  },
  {
   "cell_type": "code",
   "execution_count": 10,
   "metadata": {},
   "outputs": [
    {
     "name": "stdout",
     "output_type": "stream",
     "text": [
      "Enter a number of n: 5\n",
      "*        * \n",
      "*      * \n",
      "*    * \n",
      "*  * \n",
      "* \n"
     ]
    }
   ],
   "source": [
    "#12\n",
    "n = int(input(\"Enter a number : \"))\n",
    "for i in range(n):\n",
    "    print(\"* \",end='')\n",
    "    if i!= n-1:\n",
    "        print(\" \"*(2*n-2*i-3)+\"* \",end=\"\")\n",
    "    print()"
   ]
  },
  {
   "cell_type": "code",
   "execution_count": null,
   "metadata": {},
   "outputs": [
    {
     "name": "stdout",
     "output_type": "stream",
     "text": [
      "\n",
      "enter username: ad\n",
      "enter password: s\n",
      "your username is wrong\n",
      "your password is wrong\n",
      "\n"
     ]
    }
   ],
   "source": [
    "#13\n",
    "username = 'admin'\n",
    "password = '1234'\n",
    "usr = ''\n",
    "psw = ''\n",
    "while usr != username and psw != password:\n",
    "    print()\n",
    "    usr = input(\"enter username: \")\n",
    "    psw = input(\"enter password: \")\n",
    "    if usr != username :\n",
    "        print(\"your username is wrong\")\n",
    "    if psw != password :\n",
    "        print(\"your password is wrong\")\n",
    "    if usr == username and psw == password:\n",
    "        print()\n",
    "        user = input('Enter your new username: ')\n",
    "        password = input(\"Enter your new password\")\n",
    "        break"
   ]
  },
  {
   "cell_type": "code",
   "execution_count": 5,
   "metadata": {},
   "outputs": [
    {
     "name": "stdout",
     "output_type": "stream",
     "text": [
      "Enter your text: Loops are handy, if you want to run the same code over and over again, each time with a different value. Often this is the case when working with arrays:\n",
      "Uppercase character number is 2\n",
      "Lowercase character number is 118\n",
      "Special character number is33\n"
     ]
    }
   ],
   "source": [
    "#14\n",
    "text = input(\"Enter your text: \")\n",
    "cu = 0\n",
    "uc = 0\n",
    "for i in text:\n",
    "    if i.isupper() == True:\n",
    "        cu=cu+1\n",
    "    if i.islower() == True:\n",
    "        uc=uc+1\n",
    "print(\"Uppercase character number is {}\".format(cu))\n",
    "print(\"Lowercase character number is {}\".format(uc))\n",
    "print(\"Special character number is{}\".format(len(text)-cu-uc))"
   ]
  },
  {
   "cell_type": "code",
   "execution_count": 1,
   "metadata": {},
   "outputs": [
    {
     "name": "stdout",
     "output_type": "stream",
     "text": [
      "Enter your word item: Hello\n",
      "Data >>>Hello \n",
      "Enter your word item: World\n",
      "Data >>>Hello World \n",
      "Enter your word item: pop\n",
      "Data >>>Hello \n",
      "Enter your word item: pop\n",
      "Data >>>\n",
      "Enter your word item: cancel\n",
      "End the program!!?\n"
     ]
    }
   ],
   "source": [
    "#15\n",
    "class Stack:\n",
    "  def __init__(self):\n",
    "    self.items = []\n",
    "  def is_empty(self):\n",
    "    return self.items == []\n",
    "  def push(self, item):\n",
    "    self.items.append(item)\n",
    "  def pop(self):\n",
    "    return self.items.pop()\n",
    "  def peek(self):\n",
    "    return self.items[len(self.items)-1]\n",
    "  def size(self):\n",
    "    return len(self.items)\n",
    "  def show(self):\n",
    "        s=''\n",
    "        for i in self.items:\n",
    "            s = s + i + ' '\n",
    "        return s\n",
    "stem = Stack()\n",
    "strike =''\n",
    "while strike != 'cancel':\n",
    "    strike = input('Enter your word item: ')\n",
    "    if strike == 'pop':\n",
    "        if stem.is_empty():\n",
    "            print('No item inside')\n",
    "        else:\n",
    "            stem.pop()\n",
    "            print(\"Data >>>{}\".format(stem.show()))\n",
    "    elif strike != 'cancel':\n",
    "        stem.push(strike)\n",
    "        print('Data >>>{}'.format(stem.show()))\n",
    "print('End the program!!?')"
   ]
  }
 ],
 "metadata": {
  "kernelspec": {
   "display_name": "Python 3",
   "language": "python",
   "name": "python3"
  },
  "language_info": {
   "codemirror_mode": {
    "name": "ipython",
    "version": 3
   },
   "file_extension": ".py",
   "mimetype": "text/x-python",
   "name": "python",
   "nbconvert_exporter": "python",
   "pygments_lexer": "ipython3",
   "version": "3.7.6"
  }
 },
 "nbformat": 4,
 "nbformat_minor": 4
}
